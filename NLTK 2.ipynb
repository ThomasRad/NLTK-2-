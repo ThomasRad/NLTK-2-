{
 "cells": [
  {
   "cell_type": "markdown",
   "metadata": {},
   "source": [
    "# Following Along Youtube Tutorial"
   ]
  },
  {
   "cell_type": "code",
   "execution_count": 1,
   "metadata": {},
   "outputs": [],
   "source": [
    "# Import \n",
    "\n",
    "from nltk.corpus import stopwords\n",
    "from nltk.tokenize import word_tokenize"
   ]
  },
  {
   "cell_type": "code",
   "execution_count": 2,
   "metadata": {},
   "outputs": [],
   "source": [
    "# Create some text for use.\n",
    "\n",
    "text = \"I once met a man who was like no other. He was a wise man. He was not a tall man. He was not a short man. He was just right. His name was Thomas.\""
   ]
  },
  {
   "cell_type": "code",
   "execution_count": 4,
   "metadata": {},
   "outputs": [],
   "source": [
    "# Set up the stop words.\n",
    "\n",
    "stop_words = set(stopwords.words('english'))"
   ]
  },
  {
   "cell_type": "code",
   "execution_count": 6,
   "metadata": {},
   "outputs": [
    {
     "name": "stdout",
     "output_type": "stream",
     "text": [
      "{\"mustn't\", 'as', 'he', 'between', 'until', 'of', 'off', \"that'll\", 'doing', 'same', 'the', \"isn't\", 'their', 'herself', \"she's\", 'can', 'wouldn', \"couldn't\", 'a', 'to', \"you'll\", \"mightn't\", 'won', 'him', 'while', 'so', 'where', 'no', 'be', 'too', 'at', \"doesn't\", 'but', 'before', 'during', 'we', \"don't\", 'yourselves', 'myself', 'was', 'that', 'this', 'ain', 'by', 'on', 'd', \"wasn't\", 'when', 'now', \"it's\", 'needn', 's', 'from', 'will', 'is', 'themselves', 'below', 'an', \"weren't\", \"wouldn't\", 'being', 'above', 'these', 'in', 'them', 'why', 'more', 've', 'into', \"hasn't\", 'having', 'hasn', 'me', 'mustn', 'because', 'am', 't', 'are', 'again', 'only', 'didn', \"won't\", \"didn't\", 'each', 'for', 'weren', 'do', 'y', 'further', 'haven', 'has', 'such', 'there', 'both', 'own', 'your', 'after', 'very', \"you'd\", 'mightn', 'here', 'whom', \"should've\", \"you've\", 'against', 'hers', 'isn', 'over', 'which', \"shan't\", 'yourself', 'some', 'nor', 'himself', 'who', 'were', 'i', 'if', \"hadn't\", \"shouldn't\", 'its', 'ours', 'through', 'should', 'other', 'up', 'you', 'ourselves', 'll', 'his', 'itself', 'how', 'than', 'm', \"needn't\", 'shan', 'ma', 'those', 'aren', 'with', 'my', 'wasn', 'couldn', 'hadn', 'under', 'did', 'then', 'down', 'any', 'theirs', 'what', 'had', 'don', 'she', 'does', 'few', 'about', 'yours', 'have', 'doesn', 'our', \"you're\", 'or', 'and', 'her', 're', 'most', 'out', \"aren't\", 'once', 'o', \"haven't\", 'they', 'just', 'shouldn', 'been', 'all', 'not', 'it'}\n"
     ]
    }
   ],
   "source": [
    "# Let use look at some of the stop words. Stop Words: Words that don't really add to the sentence that we can drop.\n",
    "\n",
    "print(stop_words)"
   ]
  },
  {
   "cell_type": "code",
   "execution_count": 7,
   "metadata": {},
   "outputs": [],
   "source": [
    "# Tokenize our text.\n",
    "\n",
    "text_words = word_tokenize(text)"
   ]
  },
  {
   "cell_type": "code",
   "execution_count": 14,
   "metadata": {},
   "outputs": [
    {
     "name": "stdout",
     "output_type": "stream",
     "text": [
      "['I', 'once', 'met', 'a', 'man', 'who', 'was', 'like', 'no', 'other', '.', 'He', 'was', 'a', 'wise', 'man', '.', 'He', 'was', 'not', 'a', 'tall', 'man', '.', 'He', 'was', 'not', 'a', 'short', 'man', '.', 'He', 'was', 'just', 'right', '.', 'His', 'name', 'was', 'Thomas', '.']\n",
      " \n",
      "Comparing the two now\n",
      " \n",
      "['I', 'met', 'man', 'like', '.', 'He', 'wise', 'man', '.', 'He', 'tall', 'man', '.', 'He', 'short', 'man', '.', 'He', 'right', '.', 'His', 'name', 'Thomas', '.']\n"
     ]
    }
   ],
   "source": [
    "# Now let us slim down our text by filtering by the stop words. \n",
    "\n",
    "condensed_text = []\n",
    "\n",
    "for word in text_words:\n",
    "    if word not in stop_words:\n",
    "        condensed_text.append(word)\n",
    "        \n",
    "      \n",
    "print(text_words)\n",
    "print(\" \")\n",
    "print(\"Comparing the two now\")\n",
    "print(\" \")\n",
    "\n",
    "print(condensed_text)"
   ]
  },
  {
   "cell_type": "code",
   "execution_count": 17,
   "metadata": {},
   "outputs": [
    {
     "name": "stdout",
     "output_type": "stream",
     "text": [
      "['I', 'met', 'man', 'like', '.', 'He', 'wise', 'man', '.', 'He', 'tall', 'man', '.', 'He', 'short', 'man', '.', 'He', 'right', '.', 'His', 'name', 'Thomas', '.']\n"
     ]
    }
   ],
   "source": [
    "# Using list comprehensions instead of the above code. \n",
    "\n",
    "smaller_list = [w for w in text_words if not w in stop_words]\n",
    "print(smaller_list)"
   ]
  }
 ],
 "metadata": {
  "kernelspec": {
   "display_name": "Python 3",
   "language": "python",
   "name": "python3"
  },
  "language_info": {
   "codemirror_mode": {
    "name": "ipython",
    "version": 3
   },
   "file_extension": ".py",
   "mimetype": "text/x-python",
   "name": "python",
   "nbconvert_exporter": "python",
   "pygments_lexer": "ipython3",
   "version": "3.7.6"
  }
 },
 "nbformat": 4,
 "nbformat_minor": 4
}
